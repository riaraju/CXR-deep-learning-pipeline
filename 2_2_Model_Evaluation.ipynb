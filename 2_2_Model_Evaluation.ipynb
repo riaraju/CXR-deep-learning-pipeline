{
 "cells": [
  {
   "cell_type": "markdown",
   "id": "4d0d3b58-aad2-4334-a912-a91b9bdeee34",
   "metadata": {},
   "source": [
    "# ⚠️⚠️⚠️⚠️⚠️ ***Attention*** ⚠️⚠️⚠️⚠️⚠️\n",
    "\n",
    "Please specify your assigned GPU number."
   ]
  },
  {
   "cell_type": "code",
   "execution_count": null,
   "id": "14d4fd64-95d2-47a2-a560-532f522e9fe4",
   "metadata": {},
   "outputs": [],
   "source": [
    "GPU_NUM = # put GPU number here"
   ]
  },
  {
   "cell_type": "markdown",
   "id": "482e580d-6992-4791-8d6d-4ddc4e9eb973",
   "metadata": {},
   "source": [
    "## Model Evaluation\n",
    "\n",
    "##### This notebook demonstrates the evaluation of our trained model across two distinct datasets. We'll assess its performance using\n",
    "\n",
    "##### 1. Internal test data: This is derived from the same source as our training data (**Data2**).\n",
    "##### 2. External test data: We'll use an independent dataset (**Data3**) to gauge the model's generalization capabilities.\n",
    "\n",
    "##### By comparing results from both internal and external tests, we can gain insights into the model's robustness and its ability to handle diverse data."
   ]
  },
  {
   "cell_type": "code",
   "execution_count": 1,
   "id": "56bce344-b3ed-4d18-b265-0788f294e10f",
   "metadata": {},
   "outputs": [
    {
     "name": "stderr",
     "output_type": "stream",
     "text": [
      "2024-08-13 13:25:42.021620: E external/local_xla/xla/stream_executor/cuda/cuda_fft.cc:479] Unable to register cuFFT factory: Attempting to register factory for plugin cuFFT when one has already been registered\n",
      "2024-08-13 13:25:42.037200: E external/local_xla/xla/stream_executor/cuda/cuda_dnn.cc:10575] Unable to register cuDNN factory: Attempting to register factory for plugin cuDNN when one has already been registered\n",
      "2024-08-13 13:25:42.037251: E external/local_xla/xla/stream_executor/cuda/cuda_blas.cc:1442] Unable to register cuBLAS factory: Attempting to register factory for plugin cuBLAS when one has already been registered\n",
      "2024-08-13 13:25:42.049606: I tensorflow/core/platform/cpu_feature_guard.cc:210] This TensorFlow binary is optimized to use available CPU instructions in performance-critical operations.\n",
      "To enable the following instructions: AVX2 FMA, in other operations, rebuild TensorFlow with the appropriate compiler flags.\n",
      "2024-08-13 13:25:43.082106: W tensorflow/compiler/tf2tensorrt/utils/py_utils.cc:38] TF-TRT Warning: Could not find TensorRT\n"
     ]
    }
   ],
   "source": [
    "import numpy as np\n",
    "from keras.models import load_model\n",
    "from keras.preprocessing import image\n",
    "from sklearn.metrics import roc_auc_score, f1_score, accuracy_score, precision_score, recall_score, confusion_matrix\n",
    "from glob import glob\n",
    "import os\n",
    "import matplotlib.pyplot as plt\n",
    "import seaborn as sns\n",
    "import pandas as pd"
   ]
  },
  {
   "cell_type": "code",
   "execution_count": null,
   "id": "7e44f85c-b681-48f2-9c01-445c22e0d3df",
   "metadata": {},
   "outputs": [],
   "source": [
    "os.environ[\"KERAS_BACKEND\"] = \"tensorflow\"\n",
    "os.environ['CUDA_LAUNCH_BLOCKING'] = \"0\"\n",
    "os.environ[\"CUDA_VISIBLE_DEVICES\"] = str(GPU_NUM)"
   ]
  },
  {
   "cell_type": "code",
   "execution_count": 3,
   "id": "4549bbe5-6610-46d2-8c52-841a6ba9fb8e",
   "metadata": {},
   "outputs": [],
   "source": [
    "# Define a function for image preprocessing \n",
    "\n",
    "def load_and_preprocess_image(img_path, target_size=(224, 224)):\n",
    "    img = image.load_img(img_path, target_size=target_size)\n",
    "    img_array = image.img_to_array(img)\n",
    "    img_array = np.expand_dims(img_array, axis=0)\n",
    "    return img_array / 255.0"
   ]
  },
  {
   "cell_type": "code",
   "execution_count": 4,
   "id": "f72e5c1f-545b-4f76-b10f-455f1389a0fe",
   "metadata": {},
   "outputs": [
    {
     "name": "stderr",
     "output_type": "stream",
     "text": [
      "2024-08-13 13:25:45.748507: I tensorflow/core/common_runtime/gpu/gpu_device.cc:1928] Created device /job:localhost/replica:0/task:0/device:GPU:0 with 1024 MB memory:  -> device: 0, name: NVIDIA RTX A6000, pci bus id: 0000:61:00.0, compute capability: 8.6\n"
     ]
    }
   ],
   "source": [
    "# Load Data2 model\n",
    "model = load_model('./weights/best_model_Data2.keras')"
   ]
  },
  {
   "cell_type": "markdown",
   "id": "dcc08e09-1cb8-49b1-a3df-175d00af992e",
   "metadata": {},
   "source": [
    "### Internal Validation"
   ]
  },
  {
   "cell_type": "code",
   "execution_count": 5,
   "id": "25d7d11f-fc19-4077-8823-8bb815d4d944",
   "metadata": {},
   "outputs": [],
   "source": [
    "# Load and preprocess test images\n",
    "positive_paths = glob('/fsx/embed/summer-school-24/Datathon24_SummerSchool_CXR/Data2_Preprocessed/test/positive/*.png')\n",
    "negative_paths = glob('/fsx/embed/summer-school-24/Datathon24_SummerSchool_CXR/Data2_Preprocessed/test/negative/*.png')\n",
    "test_image_paths = positive_paths + negative_paths  # Add all test image paths\n",
    "test_labels = [1]*len(positive_paths) + [0]*len(negative_paths)  # Add corresponding true labels (0 or 1 for binary classification)\n",
    "\n",
    "X_test = np.vstack([load_and_preprocess_image(img_path) for img_path in test_image_paths])\n",
    "y_true = np.array(test_labels)"
   ]
  },
  {
   "cell_type": "code",
   "execution_count": 6,
   "id": "0930f040-cbcb-4d64-aece-e91ed660dd77",
   "metadata": {},
   "outputs": [
    {
     "name": "stderr",
     "output_type": "stream",
     "text": [
      "2024-08-13 13:25:53.695550: W external/local_tsl/tsl/framework/cpu_allocator_impl.cc:83] Allocation of 271552512 exceeds 10% of free system memory.\n",
      "2024-08-13 13:25:53.831784: W external/local_tsl/tsl/framework/cpu_allocator_impl.cc:83] Allocation of 271552512 exceeds 10% of free system memory.\n",
      "WARNING: All log messages before absl::InitializeLog() is called are written to STDERR\n",
      "I0000 00:00:1723569954.975465 1005961 service.cc:145] XLA service 0x7f9eb8002fd0 initialized for platform CUDA (this does not guarantee that XLA will be used). Devices:\n",
      "I0000 00:00:1723569954.975546 1005961 service.cc:153]   StreamExecutor device (0): NVIDIA RTX A6000, Compute Capability 8.6\n",
      "2024-08-13 13:25:55.029564: I tensorflow/compiler/mlir/tensorflow/utils/dump_mlir_util.cc:268] disabling MLIR crash reproducer, set env var `MLIR_CRASH_REPRODUCER_DIRECTORY` to enable.\n",
      "2024-08-13 13:25:55.349920: I external/local_xla/xla/stream_executor/cuda/cuda_dnn.cc:465] Loaded cuDNN version 8907\n",
      "2024-08-13 13:25:55.913448: W external/local_tsl/tsl/framework/bfc_allocator.cc:296] Allocator (GPU_0_bfc) ran out of memory trying to allocate 163.51MiB with freed_by_count=0. The caller indicates that this is not a failure, but this may mean that there could be performance gains if more memory were available.\n",
      "2024-08-13 13:25:55.913512: W external/local_tsl/tsl/framework/bfc_allocator.cc:296] Allocator (GPU_0_bfc) ran out of memory trying to allocate 163.50MiB with freed_by_count=0. The caller indicates that this is not a failure, but this may mean that there could be performance gains if more memory were available.\n",
      "2024-08-13 13:25:55.913523: W external/local_tsl/tsl/framework/bfc_allocator.cc:296] Allocator (GPU_0_bfc) ran out of memory trying to allocate 163.50MiB with freed_by_count=0. The caller indicates that this is not a failure, but this may mean that there could be performance gains if more memory were available.\n",
      "2024-08-13 13:25:55.913545: W external/local_tsl/tsl/framework/bfc_allocator.cc:296] Allocator (GPU_0_bfc) ran out of memory trying to allocate 163.50MiB with freed_by_count=0. The caller indicates that this is not a failure, but this may mean that there could be performance gains if more memory were available.\n",
      "2024-08-13 13:25:55.913556: W external/local_tsl/tsl/framework/bfc_allocator.cc:296] Allocator (GPU_0_bfc) ran out of memory trying to allocate 163.50MiB with freed_by_count=0. The caller indicates that this is not a failure, but this may mean that there could be performance gains if more memory were available.\n",
      "2024-08-13 13:25:55.913566: W external/local_tsl/tsl/framework/bfc_allocator.cc:296] Allocator (GPU_0_bfc) ran out of memory trying to allocate 163.50MiB with freed_by_count=0. The caller indicates that this is not a failure, but this may mean that there could be performance gains if more memory were available.\n",
      "2024-08-13 13:25:55.920999: W external/local_tsl/tsl/framework/bfc_allocator.cc:296] Allocator (GPU_0_bfc) ran out of memory trying to allocate 163.50MiB with freed_by_count=0. The caller indicates that this is not a failure, but this may mean that there could be performance gains if more memory were available.\n",
      "2024-08-13 13:25:55.921022: W external/local_tsl/tsl/framework/bfc_allocator.cc:296] Allocator (GPU_0_bfc) ran out of memory trying to allocate 163.50MiB with freed_by_count=0. The caller indicates that this is not a failure, but this may mean that there could be performance gains if more memory were available.\n",
      "2024-08-13 13:25:55.921031: W external/local_tsl/tsl/framework/bfc_allocator.cc:296] Allocator (GPU_0_bfc) ran out of memory trying to allocate 163.50MiB with freed_by_count=0. The caller indicates that this is not a failure, but this may mean that there could be performance gains if more memory were available.\n"
     ]
    },
    {
     "name": "stdout",
     "output_type": "stream",
     "text": [
      "\u001b[1m10/15\u001b[0m \u001b[32m━━━━━━━━━━━━━\u001b[0m\u001b[37m━━━━━━━\u001b[0m \u001b[1m0s\u001b[0m 18ms/step"
     ]
    },
    {
     "name": "stderr",
     "output_type": "stream",
     "text": [
      "I0000 00:00:1723569956.966459 1005961 device_compiler.h:188] Compiled cluster using XLA!  This line is logged at most once for the lifetime of the process.\n"
     ]
    },
    {
     "name": "stdout",
     "output_type": "stream",
     "text": [
      "\u001b[1m15/15\u001b[0m \u001b[32m━━━━━━━━━━━━━━━━━━━━\u001b[0m\u001b[37m\u001b[0m \u001b[1m6s\u001b[0m 201ms/step\n"
     ]
    }
   ],
   "source": [
    "# Make predictions\n",
    "y_pred_prob = model.predict(X_test)\n",
    "y_pred = (y_pred_prob > 0.5).astype(int)  # Assuming 0.5 as threshold for binary classification"
   ]
  },
  {
   "cell_type": "code",
   "execution_count": 7,
   "id": "87381d41-b175-4e07-8c82-e71b634be811",
   "metadata": {},
   "outputs": [
    {
     "data": {
      "text/html": [
       "<div>\n",
       "<style scoped>\n",
       "    .dataframe tbody tr th:only-of-type {\n",
       "        vertical-align: middle;\n",
       "    }\n",
       "\n",
       "    .dataframe tbody tr th {\n",
       "        vertical-align: top;\n",
       "    }\n",
       "\n",
       "    .dataframe thead th {\n",
       "        text-align: right;\n",
       "    }\n",
       "</style>\n",
       "<table border=\"1\" class=\"dataframe\">\n",
       "  <thead>\n",
       "    <tr style=\"text-align: right;\">\n",
       "      <th></th>\n",
       "      <th>Path</th>\n",
       "      <th>Label</th>\n",
       "      <th>Prediction</th>\n",
       "      <th>Probability</th>\n",
       "    </tr>\n",
       "  </thead>\n",
       "  <tbody>\n",
       "    <tr>\n",
       "      <th>0</th>\n",
       "      <td>/home/fli40/Data/Datathon24_SummerSchool_CXR/D...</td>\n",
       "      <td>1</td>\n",
       "      <td>1</td>\n",
       "      <td>0.827520</td>\n",
       "    </tr>\n",
       "    <tr>\n",
       "      <th>1</th>\n",
       "      <td>/home/fli40/Data/Datathon24_SummerSchool_CXR/D...</td>\n",
       "      <td>1</td>\n",
       "      <td>1</td>\n",
       "      <td>0.625199</td>\n",
       "    </tr>\n",
       "    <tr>\n",
       "      <th>2</th>\n",
       "      <td>/home/fli40/Data/Datathon24_SummerSchool_CXR/D...</td>\n",
       "      <td>1</td>\n",
       "      <td>1</td>\n",
       "      <td>0.666085</td>\n",
       "    </tr>\n",
       "    <tr>\n",
       "      <th>3</th>\n",
       "      <td>/home/fli40/Data/Datathon24_SummerSchool_CXR/D...</td>\n",
       "      <td>1</td>\n",
       "      <td>0</td>\n",
       "      <td>0.436517</td>\n",
       "    </tr>\n",
       "    <tr>\n",
       "      <th>4</th>\n",
       "      <td>/home/fli40/Data/Datathon24_SummerSchool_CXR/D...</td>\n",
       "      <td>1</td>\n",
       "      <td>1</td>\n",
       "      <td>0.862866</td>\n",
       "    </tr>\n",
       "    <tr>\n",
       "      <th>...</th>\n",
       "      <td>...</td>\n",
       "      <td>...</td>\n",
       "      <td>...</td>\n",
       "      <td>...</td>\n",
       "    </tr>\n",
       "    <tr>\n",
       "      <th>446</th>\n",
       "      <td>/home/fli40/Data/Datathon24_SummerSchool_CXR/D...</td>\n",
       "      <td>0</td>\n",
       "      <td>0</td>\n",
       "      <td>0.033249</td>\n",
       "    </tr>\n",
       "    <tr>\n",
       "      <th>447</th>\n",
       "      <td>/home/fli40/Data/Datathon24_SummerSchool_CXR/D...</td>\n",
       "      <td>0</td>\n",
       "      <td>0</td>\n",
       "      <td>0.081675</td>\n",
       "    </tr>\n",
       "    <tr>\n",
       "      <th>448</th>\n",
       "      <td>/home/fli40/Data/Datathon24_SummerSchool_CXR/D...</td>\n",
       "      <td>0</td>\n",
       "      <td>0</td>\n",
       "      <td>0.023007</td>\n",
       "    </tr>\n",
       "    <tr>\n",
       "      <th>449</th>\n",
       "      <td>/home/fli40/Data/Datathon24_SummerSchool_CXR/D...</td>\n",
       "      <td>0</td>\n",
       "      <td>0</td>\n",
       "      <td>0.493844</td>\n",
       "    </tr>\n",
       "    <tr>\n",
       "      <th>450</th>\n",
       "      <td>/home/fli40/Data/Datathon24_SummerSchool_CXR/D...</td>\n",
       "      <td>0</td>\n",
       "      <td>0</td>\n",
       "      <td>0.184103</td>\n",
       "    </tr>\n",
       "  </tbody>\n",
       "</table>\n",
       "<p>451 rows × 4 columns</p>\n",
       "</div>"
      ],
      "text/plain": [
       "                                                  Path  Label  Prediction  \\\n",
       "0    /home/fli40/Data/Datathon24_SummerSchool_CXR/D...      1           1   \n",
       "1    /home/fli40/Data/Datathon24_SummerSchool_CXR/D...      1           1   \n",
       "2    /home/fli40/Data/Datathon24_SummerSchool_CXR/D...      1           1   \n",
       "3    /home/fli40/Data/Datathon24_SummerSchool_CXR/D...      1           0   \n",
       "4    /home/fli40/Data/Datathon24_SummerSchool_CXR/D...      1           1   \n",
       "..                                                 ...    ...         ...   \n",
       "446  /home/fli40/Data/Datathon24_SummerSchool_CXR/D...      0           0   \n",
       "447  /home/fli40/Data/Datathon24_SummerSchool_CXR/D...      0           0   \n",
       "448  /home/fli40/Data/Datathon24_SummerSchool_CXR/D...      0           0   \n",
       "449  /home/fli40/Data/Datathon24_SummerSchool_CXR/D...      0           0   \n",
       "450  /home/fli40/Data/Datathon24_SummerSchool_CXR/D...      0           0   \n",
       "\n",
       "     Probability  \n",
       "0       0.827520  \n",
       "1       0.625199  \n",
       "2       0.666085  \n",
       "3       0.436517  \n",
       "4       0.862866  \n",
       "..           ...  \n",
       "446     0.033249  \n",
       "447     0.081675  \n",
       "448     0.023007  \n",
       "449     0.493844  \n",
       "450     0.184103  \n",
       "\n",
       "[451 rows x 4 columns]"
      ]
     },
     "execution_count": 7,
     "metadata": {},
     "output_type": "execute_result"
    }
   ],
   "source": [
    "# Save evaluation results as csv\n",
    "df_results = pd.DataFrame(test_image_paths, columns=['Path'])\n",
    "df_results['Label'] = y_true\n",
    "df_results['Prediction'] = y_pred\n",
    "df_results['Probability'] = y_pred_prob\n",
    "df_results.to_csv('./results/Model2_TestSet.csv', index=False)\n",
    "df_results"
   ]
  },
  {
   "cell_type": "code",
   "execution_count": 8,
   "id": "7156a901-1829-428b-b20f-c9c0a661c8fa",
   "metadata": {},
   "outputs": [
    {
     "data": {
      "image/png": "[encoded data removed]",
      "text/plain": [
       "<Figure size 500x400 with 2 Axes>"
      ]
     },
     "metadata": {},
     "output_type": "display_data"
    }
   ],
   "source": [
    "# Compute the confusion matrix\n",
    "cm = confusion_matrix(y_true, y_pred, normalize='all')\n",
    "\n",
    "# Plot the confusion matrix\n",
    "plt.figure(figsize=(5, 4))\n",
    "sns.heatmap(cm, annot=True, cmap='Blues')\n",
    "plt.title('Confusion Matrix')\n",
    "plt.xlabel('Predicted Labels')\n",
    "plt.ylabel('True Labels')\n",
    "plt.show()"
   ]
  },
  {
   "cell_type": "code",
   "execution_count": 9,
   "id": "67ec6cbd-e0d6-47c3-b5b5-bf9a2f4d1126",
   "metadata": {},
   "outputs": [
    {
     "name": "stdout",
     "output_type": "stream",
     "text": [
      "AUC: 0.7586\n",
      "F1 Score: 0.7054\n",
      "Accuracy: 0.6851\n",
      "PPV (Precision): 0.6996\n",
      "Sensitivity (Recall): 0.7113\n",
      "Specificity: 0.6557\n"
     ]
    }
   ],
   "source": [
    "# Calculate metrics\n",
    "auc = roc_auc_score(y_true, y_pred_prob)\n",
    "f1 = f1_score(y_true, y_pred)\n",
    "accuracy = accuracy_score(y_true, y_pred)\n",
    "ppv = precision_score(y_true, y_pred)  # PPV is the same as precision\n",
    "sensitivity = recall_score(y_true, y_pred)  # Sensitivity is the same as recall\n",
    "specificity = recall_score(y_true, y_pred, pos_label=0)  # Specificity is recall of the negative class\n",
    "\n",
    "# Print results\n",
    "print(f\"AUC: {auc:.4f}\")\n",
    "print(f\"F1 Score: {f1:.4f}\")\n",
    "print(f\"Accuracy: {accuracy:.4f}\")\n",
    "print(f\"PPV (Precision): {ppv:.4f}\")\n",
    "print(f\"Sensitivity (Recall): {sensitivity:.4f}\")\n",
    "print(f\"Specificity: {specificity:.4f}\")"
   ]
  },
  {
   "cell_type": "markdown",
   "id": "f2f40e9c-84b8-44dc-b045-7f4df63a6633",
   "metadata": {},
   "source": [
    "### External Validation"
   ]
  },
  {
   "cell_type": "code",
   "execution_count": 10,
   "id": "10fa6aa8-06a8-4dc4-88ac-b237b502f912",
   "metadata": {},
   "outputs": [],
   "source": [
    "# Load and preprocess test images\n",
    "positive_paths = glob('/fsx/embed/summer-school-24/Datathon24_SummerSchool_CXR/Data3_Preprocessed/positive/*.png')\n",
    "negative_paths = glob('/fsx/embed/summer-school-24/Datathon24_SummerSchool_CXR/Data3_Preprocessed/negative/*.png')\n",
    "test_image_paths = positive_paths + negative_paths  # Add all test image paths\n",
    "test_labels = [1]*len(positive_paths) + [0]*len(negative_paths)  # Add corresponding true labels (0 or 1 for binary classification)\n",
    "\n",
    "X_test = np.vstack([load_and_preprocess_image(img_path) for img_path in test_image_paths])\n",
    "y_true = np.array(test_labels)"
   ]
  },
  {
   "cell_type": "code",
   "execution_count": 11,
   "id": "f67a9fc7-0231-405c-9834-b6c93247243e",
   "metadata": {},
   "outputs": [
    {
     "name": "stdout",
     "output_type": "stream",
     "text": [
      "\u001b[1m 1/18\u001b[0m \u001b[32m━\u001b[0m\u001b[37m━━━━━━━━━━━━━━━━━━━\u001b[0m \u001b[1m0s\u001b[0m 45ms/step"
     ]
    },
    {
     "name": "stderr",
     "output_type": "stream",
     "text": [
      "2024-08-13 13:26:08.574779: W external/local_tsl/tsl/framework/cpu_allocator_impl.cc:83] Allocation of 332967936 exceeds 10% of free system memory.\n",
      "2024-08-13 13:26:08.736678: W external/local_tsl/tsl/framework/cpu_allocator_impl.cc:83] Allocation of 332967936 exceeds 10% of free system memory.\n"
     ]
    },
    {
     "name": "stdout",
     "output_type": "stream",
     "text": [
      "\u001b[1m18/18\u001b[0m \u001b[32m━━━━━━━━━━━━━━━━━━━━\u001b[0m\u001b[37m\u001b[0m \u001b[1m2s\u001b[0m 99ms/step\n"
     ]
    }
   ],
   "source": [
    "# Make predictions\n",
    "y_pred_prob = model.predict(X_test)\n",
    "y_pred = (y_pred_prob > 0.5).astype(int)  # Assuming 0.5 as threshold for binary classification"
   ]
  },
  {
   "cell_type": "code",
   "execution_count": 12,
   "id": "e34ab946-9b83-4b15-8456-86f5196dbeea",
   "metadata": {},
   "outputs": [
    {
     "data": {
      "text/html": [
       "<div>\n",
       "<style scoped>\n",
       "    .dataframe tbody tr th:only-of-type {\n",
       "        vertical-align: middle;\n",
       "    }\n",
       "\n",
       "    .dataframe tbody tr th {\n",
       "        vertical-align: top;\n",
       "    }\n",
       "\n",
       "    .dataframe thead th {\n",
       "        text-align: right;\n",
       "    }\n",
       "</style>\n",
       "<table border=\"1\" class=\"dataframe\">\n",
       "  <thead>\n",
       "    <tr style=\"text-align: right;\">\n",
       "      <th></th>\n",
       "      <th>Path</th>\n",
       "      <th>Label</th>\n",
       "      <th>Prediction</th>\n",
       "      <th>Probability</th>\n",
       "    </tr>\n",
       "  </thead>\n",
       "  <tbody>\n",
       "    <tr>\n",
       "      <th>0</th>\n",
       "      <td>/home/fli40/Data/Datathon24_SummerSchool_CXR/D...</td>\n",
       "      <td>1</td>\n",
       "      <td>1</td>\n",
       "      <td>0.658327</td>\n",
       "    </tr>\n",
       "    <tr>\n",
       "      <th>1</th>\n",
       "      <td>/home/fli40/Data/Datathon24_SummerSchool_CXR/D...</td>\n",
       "      <td>1</td>\n",
       "      <td>1</td>\n",
       "      <td>0.738909</td>\n",
       "    </tr>\n",
       "    <tr>\n",
       "      <th>2</th>\n",
       "      <td>/home/fli40/Data/Datathon24_SummerSchool_CXR/D...</td>\n",
       "      <td>1</td>\n",
       "      <td>1</td>\n",
       "      <td>0.806033</td>\n",
       "    </tr>\n",
       "    <tr>\n",
       "      <th>3</th>\n",
       "      <td>/home/fli40/Data/Datathon24_SummerSchool_CXR/D...</td>\n",
       "      <td>1</td>\n",
       "      <td>0</td>\n",
       "      <td>0.140540</td>\n",
       "    </tr>\n",
       "    <tr>\n",
       "      <th>4</th>\n",
       "      <td>/home/fli40/Data/Datathon24_SummerSchool_CXR/D...</td>\n",
       "      <td>1</td>\n",
       "      <td>1</td>\n",
       "      <td>0.821423</td>\n",
       "    </tr>\n",
       "    <tr>\n",
       "      <th>...</th>\n",
       "      <td>...</td>\n",
       "      <td>...</td>\n",
       "      <td>...</td>\n",
       "      <td>...</td>\n",
       "    </tr>\n",
       "    <tr>\n",
       "      <th>548</th>\n",
       "      <td>/home/fli40/Data/Datathon24_SummerSchool_CXR/D...</td>\n",
       "      <td>0</td>\n",
       "      <td>1</td>\n",
       "      <td>0.802847</td>\n",
       "    </tr>\n",
       "    <tr>\n",
       "      <th>549</th>\n",
       "      <td>/home/fli40/Data/Datathon24_SummerSchool_CXR/D...</td>\n",
       "      <td>0</td>\n",
       "      <td>0</td>\n",
       "      <td>0.058846</td>\n",
       "    </tr>\n",
       "    <tr>\n",
       "      <th>550</th>\n",
       "      <td>/home/fli40/Data/Datathon24_SummerSchool_CXR/D...</td>\n",
       "      <td>0</td>\n",
       "      <td>0</td>\n",
       "      <td>0.098574</td>\n",
       "    </tr>\n",
       "    <tr>\n",
       "      <th>551</th>\n",
       "      <td>/home/fli40/Data/Datathon24_SummerSchool_CXR/D...</td>\n",
       "      <td>0</td>\n",
       "      <td>0</td>\n",
       "      <td>0.141706</td>\n",
       "    </tr>\n",
       "    <tr>\n",
       "      <th>552</th>\n",
       "      <td>/home/fli40/Data/Datathon24_SummerSchool_CXR/D...</td>\n",
       "      <td>0</td>\n",
       "      <td>0</td>\n",
       "      <td>0.272612</td>\n",
       "    </tr>\n",
       "  </tbody>\n",
       "</table>\n",
       "<p>553 rows × 4 columns</p>\n",
       "</div>"
      ],
      "text/plain": [
       "                                                  Path  Label  Prediction  \\\n",
       "0    /home/fli40/Data/Datathon24_SummerSchool_CXR/D...      1           1   \n",
       "1    /home/fli40/Data/Datathon24_SummerSchool_CXR/D...      1           1   \n",
       "2    /home/fli40/Data/Datathon24_SummerSchool_CXR/D...      1           1   \n",
       "3    /home/fli40/Data/Datathon24_SummerSchool_CXR/D...      1           0   \n",
       "4    /home/fli40/Data/Datathon24_SummerSchool_CXR/D...      1           1   \n",
       "..                                                 ...    ...         ...   \n",
       "548  /home/fli40/Data/Datathon24_SummerSchool_CXR/D...      0           1   \n",
       "549  /home/fli40/Data/Datathon24_SummerSchool_CXR/D...      0           0   \n",
       "550  /home/fli40/Data/Datathon24_SummerSchool_CXR/D...      0           0   \n",
       "551  /home/fli40/Data/Datathon24_SummerSchool_CXR/D...      0           0   \n",
       "552  /home/fli40/Data/Datathon24_SummerSchool_CXR/D...      0           0   \n",
       "\n",
       "     Probability  \n",
       "0       0.658327  \n",
       "1       0.738909  \n",
       "2       0.806033  \n",
       "3       0.140540  \n",
       "4       0.821423  \n",
       "..           ...  \n",
       "548     0.802847  \n",
       "549     0.058846  \n",
       "550     0.098574  \n",
       "551     0.141706  \n",
       "552     0.272612  \n",
       "\n",
       "[553 rows x 4 columns]"
      ]
     },
     "execution_count": 12,
     "metadata": {},
     "output_type": "execute_result"
    }
   ],
   "source": [
    "# Save evaluation results as csv\n",
    "df_results = pd.DataFrame(test_image_paths, columns=['Path'])\n",
    "df_results['Label'] = y_true\n",
    "df_results['Prediction'] = y_pred\n",
    "df_results['Probability'] = y_pred_prob\n",
    "df_results.to_csv('./results/Model2_External.csv', index=False)\n",
    "df_results"
   ]
  },
  {
   "cell_type": "markdown",
   "id": "29f9b98d-78b8-45be-bcf0-2d95cb24fab3",
   "metadata": {},
   "source": [
    "### It is observed that the performance of Model2 did not drop as much as that of Model1 !"
   ]
  },
  {
   "cell_type": "code",
   "execution_count": 13,
   "id": "14f38a27-07f6-4484-8391-ec96989e261d",
   "metadata": {},
   "outputs": [
    {
     "data": {
      "image/png": "[encoded data removed]",
      "text/plain": [
       "<Figure size 500x400 with 2 Axes>"
      ]
     },
     "metadata": {},
     "output_type": "display_data"
    }
   ],
   "source": [
    "# Compute the confusion matrix\n",
    "cm = confusion_matrix(y_true, y_pred, normalize='all')\n",
    "\n",
    "# Plot the confusion matrix\n",
    "plt.figure(figsize=(5, 4))\n",
    "sns.heatmap(cm, annot=True, cmap='Blues')\n",
    "plt.title('Confusion Matrix')\n",
    "plt.xlabel('Predicted Labels')\n",
    "plt.ylabel('True Labels')\n",
    "plt.show()"
   ]
  },
  {
   "cell_type": "code",
   "execution_count": 14,
   "id": "26cd9dcf-343c-4afc-a1f3-f770f2e3a32e",
   "metadata": {},
   "outputs": [
    {
     "name": "stdout",
     "output_type": "stream",
     "text": [
      "AUC: 0.7659\n",
      "F1 Score: 0.6512\n",
      "Accuracy: 0.6745\n",
      "PPV (Precision): 0.6022\n",
      "Sensitivity (Recall): 0.7089\n",
      "Specificity: 0.6487\n"
     ]
    }
   ],
   "source": [
    "# Calculate metrics\n",
    "auc = roc_auc_score(y_true, y_pred_prob)\n",
    "f1 = f1_score(y_true, y_pred)\n",
    "accuracy = accuracy_score(y_true, y_pred)\n",
    "ppv = precision_score(y_true, y_pred)  # PPV is the same as precision\n",
    "sensitivity = recall_score(y_true, y_pred)  # Sensitivity is the same as recall\n",
    "specificity = recall_score(y_true, y_pred, pos_label=0)  # Specificity is recall of the negative class\n",
    "\n",
    "# Print results\n",
    "print(f\"AUC: {auc:.4f}\")\n",
    "print(f\"F1 Score: {f1:.4f}\")\n",
    "print(f\"Accuracy: {accuracy:.4f}\")\n",
    "print(f\"PPV (Precision): {ppv:.4f}\")\n",
    "print(f\"Sensitivity (Recall): {sensitivity:.4f}\")\n",
    "print(f\"Specificity: {specificity:.4f}\")"
   ]
  }
 ],
 "metadata": {
  "kernelspec": {
   "display_name": "Python 3 (ipykernel)",
   "language": "python",
   "name": "python3"
  },
  "language_info": {
   "codemirror_mode": {
    "name": "ipython",
    "version": 3
   },
   "file_extension": ".py",
   "mimetype": "text/x-python",
   "name": "python",
   "nbconvert_exporter": "python",
   "pygments_lexer": "ipython3",
   "version": "3.10.10"
  }
 },
 "nbformat": 4,
 "nbformat_minor": 5
}
